{
 "cells": [
  {
   "cell_type": "code",
   "execution_count": 1,
   "metadata": {},
   "outputs": [
    {
     "name": "stderr",
     "output_type": "stream",
     "text": [
      "── Attaching packages ─────────────────────────────────────── tidyverse 1.2.1 ──\n",
      "✔ ggplot2 3.0.0     ✔ purrr   0.2.5\n",
      "✔ tibble  1.4.2     ✔ dplyr   0.7.6\n",
      "✔ readr   1.1.1     ✔ stringr 1.3.1\n",
      "✔ ggplot2 3.0.0     ✔ forcats 0.3.0\n",
      "── Conflicts ────────────────────────────────────────── tidyverse_conflicts() ──\n",
      "✖ dplyr::filter() masks stats::filter()\n",
      "✖ dplyr::lag()    masks stats::lag()\n"
     ]
    }
   ],
   "source": [
    "#importing the libraries\n",
    "library(tidyr)\n",
    "library(tidyverse)"
   ]
  },
  {
   "cell_type": "code",
   "execution_count": 2,
   "metadata": {},
   "outputs": [
    {
     "data": {
      "text/html": [
       "<table>\n",
       "<thead><tr><th scope=col>country</th><th scope=col>year</th><th scope=col>m04</th><th scope=col>m514</th><th scope=col>m014</th><th scope=col>m1524</th><th scope=col>m2534</th><th scope=col>m3544</th><th scope=col>m4554</th><th scope=col>m5564</th><th scope=col>⋯</th><th scope=col>f04</th><th scope=col>f514</th><th scope=col>f014</th><th scope=col>f1524</th><th scope=col>f2534</th><th scope=col>f3544</th><th scope=col>f4554</th><th scope=col>f5564</th><th scope=col>f65</th><th scope=col>fu</th></tr></thead>\n",
       "<tbody>\n",
       "\t<tr><td>AD  </td><td>2000</td><td>NA  </td><td>NA  </td><td> 0  </td><td>  0 </td><td>  1 </td><td>  0 </td><td>  0 </td><td> 0  </td><td>⋯   </td><td>NA  </td><td>NA  </td><td>NA  </td><td> NA </td><td> NA </td><td> NA </td><td> NA </td><td>NA  </td><td>NA  </td><td>NA  </td></tr>\n",
       "\t<tr><td>AE  </td><td>2000</td><td>NA  </td><td>NA  </td><td> 2  </td><td>  4 </td><td>  4 </td><td>  6 </td><td>  5 </td><td>12  </td><td>⋯   </td><td>NA  </td><td>NA  </td><td> 3  </td><td> 16 </td><td>  1 </td><td>  3 </td><td>  0 </td><td> 0  </td><td> 4  </td><td>NA  </td></tr>\n",
       "\t<tr><td>AF  </td><td>2000</td><td>NA  </td><td>NA  </td><td>52  </td><td>228 </td><td>183 </td><td>149 </td><td>129 </td><td>94  </td><td>⋯   </td><td>NA  </td><td>NA  </td><td>93  </td><td>414 </td><td>565 </td><td>339 </td><td>205 </td><td>99  </td><td>36  </td><td>NA  </td></tr>\n",
       "\t<tr><td>AG  </td><td>2000</td><td>NA  </td><td>NA  </td><td> 0  </td><td>  0 </td><td>  0 </td><td>  0 </td><td>  0 </td><td> 0  </td><td>⋯   </td><td>NA  </td><td>NA  </td><td> 1  </td><td>  1 </td><td>  1 </td><td>  0 </td><td>  0 </td><td> 0  </td><td> 0  </td><td>NA  </td></tr>\n",
       "\t<tr><td>AL  </td><td>2000</td><td>NA  </td><td>NA  </td><td> 2  </td><td> 19 </td><td> 21 </td><td> 14 </td><td> 24 </td><td>19  </td><td>⋯   </td><td>NA  </td><td>NA  </td><td> 3  </td><td> 11 </td><td> 10 </td><td>  8 </td><td>  8 </td><td> 5  </td><td>11  </td><td>NA  </td></tr>\n",
       "\t<tr><td>AM  </td><td>2000</td><td>NA  </td><td>NA  </td><td> 2  </td><td>152 </td><td>130 </td><td>131 </td><td> 63 </td><td>26  </td><td>⋯   </td><td>NA  </td><td>NA  </td><td> 1  </td><td> 24 </td><td> 27 </td><td> 24 </td><td>  8 </td><td> 8  </td><td> 4  </td><td>NA  </td></tr>\n",
       "</tbody>\n",
       "</table>\n"
      ],
      "text/latex": [
       "\\begin{tabular}{r|llllllllllllllllllllll}\n",
       " country & year & m04 & m514 & m014 & m1524 & m2534 & m3544 & m4554 & m5564 & ⋯ & f04 & f514 & f014 & f1524 & f2534 & f3544 & f4554 & f5564 & f65 & fu\\\\\n",
       "\\hline\n",
       "\t AD   & 2000 & NA   & NA   &  0   &   0  &   1  &   0  &   0  &  0   & ⋯    & NA   & NA   & NA   &  NA  &  NA  &  NA  &  NA  & NA   & NA   & NA  \\\\\n",
       "\t AE   & 2000 & NA   & NA   &  2   &   4  &   4  &   6  &   5  & 12   & ⋯    & NA   & NA   &  3   &  16  &   1  &   3  &   0  &  0   &  4   & NA  \\\\\n",
       "\t AF   & 2000 & NA   & NA   & 52   & 228  & 183  & 149  & 129  & 94   & ⋯    & NA   & NA   & 93   & 414  & 565  & 339  & 205  & 99   & 36   & NA  \\\\\n",
       "\t AG   & 2000 & NA   & NA   &  0   &   0  &   0  &   0  &   0  &  0   & ⋯    & NA   & NA   &  1   &   1  &   1  &   0  &   0  &  0   &  0   & NA  \\\\\n",
       "\t AL   & 2000 & NA   & NA   &  2   &  19  &  21  &  14  &  24  & 19   & ⋯    & NA   & NA   &  3   &  11  &  10  &   8  &   8  &  5   & 11   & NA  \\\\\n",
       "\t AM   & 2000 & NA   & NA   &  2   & 152  & 130  & 131  &  63  & 26   & ⋯    & NA   & NA   &  1   &  24  &  27  &  24  &   8  &  8   &  4   & NA  \\\\\n",
       "\\end{tabular}\n"
      ],
      "text/markdown": [
       "\n",
       "country | year | m04 | m514 | m014 | m1524 | m2534 | m3544 | m4554 | m5564 | ⋯ | f04 | f514 | f014 | f1524 | f2534 | f3544 | f4554 | f5564 | f65 | fu | \n",
       "|---|---|---|---|---|---|\n",
       "| AD   | 2000 | NA   | NA   |  0   |   0  |   1  |   0  |   0  |  0   | ⋯    | NA   | NA   | NA   |  NA  |  NA  |  NA  |  NA  | NA   | NA   | NA   | \n",
       "| AE   | 2000 | NA   | NA   |  2   |   4  |   4  |   6  |   5  | 12   | ⋯    | NA   | NA   |  3   |  16  |   1  |   3  |   0  |  0   |  4   | NA   | \n",
       "| AF   | 2000 | NA   | NA   | 52   | 228  | 183  | 149  | 129  | 94   | ⋯    | NA   | NA   | 93   | 414  | 565  | 339  | 205  | 99   | 36   | NA   | \n",
       "| AG   | 2000 | NA   | NA   |  0   |   0  |   0  |   0  |   0  |  0   | ⋯    | NA   | NA   |  1   |   1  |   1  |   0  |   0  |  0   |  0   | NA   | \n",
       "| AL   | 2000 | NA   | NA   |  2   |  19  |  21  |  14  |  24  | 19   | ⋯    | NA   | NA   |  3   |  11  |  10  |   8  |   8  |  5   | 11   | NA   | \n",
       "| AM   | 2000 | NA   | NA   |  2   | 152  | 130  | 131  |  63  | 26   | ⋯    | NA   | NA   |  1   |  24  |  27  |  24  |   8  |  8   |  4   | NA   | \n",
       "\n",
       "\n"
      ],
      "text/plain": [
       "  country year m04 m514 m014 m1524 m2534 m3544 m4554 m5564 ⋯ f04 f514 f014\n",
       "1 AD      2000 NA  NA    0     0     1     0     0    0    ⋯ NA  NA   NA  \n",
       "2 AE      2000 NA  NA    2     4     4     6     5   12    ⋯ NA  NA    3  \n",
       "3 AF      2000 NA  NA   52   228   183   149   129   94    ⋯ NA  NA   93  \n",
       "4 AG      2000 NA  NA    0     0     0     0     0    0    ⋯ NA  NA    1  \n",
       "5 AL      2000 NA  NA    2    19    21    14    24   19    ⋯ NA  NA    3  \n",
       "6 AM      2000 NA  NA    2   152   130   131    63   26    ⋯ NA  NA    1  \n",
       "  f1524 f2534 f3544 f4554 f5564 f65 fu\n",
       "1  NA    NA    NA    NA   NA    NA  NA\n",
       "2  16     1     3     0    0     4  NA\n",
       "3 414   565   339   205   99    36  NA\n",
       "4   1     1     0     0    0     0  NA\n",
       "5  11    10     8     8    5    11  NA\n",
       "6  24    27    24     8    8     4  NA"
      ]
     },
     "metadata": {},
     "output_type": "display_data"
    }
   ],
   "source": [
    "#reading the data into a dataframe\n",
    "tb <- read.csv(\"/Users/manoharsaijasti/tb-untidy.csv\", stringsAsFactors = FALSE)\n",
    "tb <- as.tibble(tb)\n",
    "head(tb)"
   ]
  },
  {
   "cell_type": "code",
   "execution_count": 3,
   "metadata": {},
   "outputs": [],
   "source": [
    "#deleting the columns which are having all the null values in it\n",
    "tb$m04 <- NULL\n",
    "tb$m514 <- NULL\n",
    "tb$mu<-NULL\n",
    "tb$f04<-NULL\n",
    "tb$f514 <- NULL\n",
    "tb$fu <- NULL"
   ]
  },
  {
   "cell_type": "code",
   "execution_count": 4,
   "metadata": {},
   "outputs": [
    {
     "data": {
      "text/html": [
       "<table>\n",
       "<thead><tr><th scope=col>country</th><th scope=col>year</th><th scope=col>m.014</th><th scope=col>m.1524</th><th scope=col>m.2534</th><th scope=col>m.3544</th><th scope=col>m.4554</th><th scope=col>m.5564</th><th scope=col>m.65</th><th scope=col>f.014</th><th scope=col>f.1524</th><th scope=col>f.2534</th><th scope=col>f.3544</th><th scope=col>f.4554</th><th scope=col>f.5564</th><th scope=col>f.65</th></tr></thead>\n",
       "<tbody>\n",
       "\t<tr><td>AD  </td><td>2000</td><td> 0  </td><td>  0 </td><td>  1 </td><td>  0 </td><td>  0 </td><td> 0  </td><td> 0  </td><td>NA  </td><td> NA </td><td> NA </td><td> NA </td><td> NA </td><td>NA  </td><td>NA  </td></tr>\n",
       "\t<tr><td>AE  </td><td>2000</td><td> 2  </td><td>  4 </td><td>  4 </td><td>  6 </td><td>  5 </td><td>12  </td><td>10  </td><td> 3  </td><td> 16 </td><td>  1 </td><td>  3 </td><td>  0 </td><td> 0  </td><td> 4  </td></tr>\n",
       "\t<tr><td>AF  </td><td>2000</td><td>52  </td><td>228 </td><td>183 </td><td>149 </td><td>129 </td><td>94  </td><td>80  </td><td>93  </td><td>414 </td><td>565 </td><td>339 </td><td>205 </td><td>99  </td><td>36  </td></tr>\n",
       "\t<tr><td>AG  </td><td>2000</td><td> 0  </td><td>  0 </td><td>  0 </td><td>  0 </td><td>  0 </td><td> 0  </td><td> 1  </td><td> 1  </td><td>  1 </td><td>  1 </td><td>  0 </td><td>  0 </td><td> 0  </td><td> 0  </td></tr>\n",
       "\t<tr><td>AL  </td><td>2000</td><td> 2  </td><td> 19 </td><td> 21 </td><td> 14 </td><td> 24 </td><td>19  </td><td>16  </td><td> 3  </td><td> 11 </td><td> 10 </td><td>  8 </td><td>  8 </td><td> 5  </td><td>11  </td></tr>\n",
       "\t<tr><td>AM  </td><td>2000</td><td> 2  </td><td>152 </td><td>130 </td><td>131 </td><td> 63 </td><td>26  </td><td>21  </td><td> 1  </td><td> 24 </td><td> 27 </td><td> 24 </td><td>  8 </td><td> 8  </td><td> 4  </td></tr>\n",
       "</tbody>\n",
       "</table>\n"
      ],
      "text/latex": [
       "\\begin{tabular}{r|llllllllllllllll}\n",
       " country & year & m.014 & m.1524 & m.2534 & m.3544 & m.4554 & m.5564 & m.65 & f.014 & f.1524 & f.2534 & f.3544 & f.4554 & f.5564 & f.65\\\\\n",
       "\\hline\n",
       "\t AD   & 2000 &  0   &   0  &   1  &   0  &   0  &  0   &  0   & NA   &  NA  &  NA  &  NA  &  NA  & NA   & NA  \\\\\n",
       "\t AE   & 2000 &  2   &   4  &   4  &   6  &   5  & 12   & 10   &  3   &  16  &   1  &   3  &   0  &  0   &  4  \\\\\n",
       "\t AF   & 2000 & 52   & 228  & 183  & 149  & 129  & 94   & 80   & 93   & 414  & 565  & 339  & 205  & 99   & 36  \\\\\n",
       "\t AG   & 2000 &  0   &   0  &   0  &   0  &   0  &  0   &  1   &  1   &   1  &   1  &   0  &   0  &  0   &  0  \\\\\n",
       "\t AL   & 2000 &  2   &  19  &  21  &  14  &  24  & 19   & 16   &  3   &  11  &  10  &   8  &   8  &  5   & 11  \\\\\n",
       "\t AM   & 2000 &  2   & 152  & 130  & 131  &  63  & 26   & 21   &  1   &  24  &  27  &  24  &   8  &  8   &  4  \\\\\n",
       "\\end{tabular}\n"
      ],
      "text/markdown": [
       "\n",
       "country | year | m.014 | m.1524 | m.2534 | m.3544 | m.4554 | m.5564 | m.65 | f.014 | f.1524 | f.2534 | f.3544 | f.4554 | f.5564 | f.65 | \n",
       "|---|---|---|---|---|---|\n",
       "| AD   | 2000 |  0   |   0  |   1  |   0  |   0  |  0   |  0   | NA   |  NA  |  NA  |  NA  |  NA  | NA   | NA   | \n",
       "| AE   | 2000 |  2   |   4  |   4  |   6  |   5  | 12   | 10   |  3   |  16  |   1  |   3  |   0  |  0   |  4   | \n",
       "| AF   | 2000 | 52   | 228  | 183  | 149  | 129  | 94   | 80   | 93   | 414  | 565  | 339  | 205  | 99   | 36   | \n",
       "| AG   | 2000 |  0   |   0  |   0  |   0  |   0  |  0   |  1   |  1   |   1  |   1  |   0  |   0  |  0   |  0   | \n",
       "| AL   | 2000 |  2   |  19  |  21  |  14  |  24  | 19   | 16   |  3   |  11  |  10  |   8  |   8  |  5   | 11   | \n",
       "| AM   | 2000 |  2   | 152  | 130  | 131  |  63  | 26   | 21   |  1   |  24  |  27  |  24  |   8  |  8   |  4   | \n",
       "\n",
       "\n"
      ],
      "text/plain": [
       "  country year m.014 m.1524 m.2534 m.3544 m.4554 m.5564 m.65 f.014 f.1524\n",
       "1 AD      2000  0      0      1      0      0     0      0   NA     NA   \n",
       "2 AE      2000  2      4      4      6      5    12     10    3     16   \n",
       "3 AF      2000 52    228    183    149    129    94     80   93    414   \n",
       "4 AG      2000  0      0      0      0      0     0      1    1      1   \n",
       "5 AL      2000  2     19     21     14     24    19     16    3     11   \n",
       "6 AM      2000  2    152    130    131     63    26     21    1     24   \n",
       "  f.2534 f.3544 f.4554 f.5564 f.65\n",
       "1  NA     NA     NA    NA     NA  \n",
       "2   1      3      0     0      4  \n",
       "3 565    339    205    99     36  \n",
       "4   1      0      0     0      0  \n",
       "5  10      8      8     5     11  \n",
       "6  27     24      8     8      4  "
      ]
     },
     "metadata": {},
     "output_type": "display_data"
    }
   ],
   "source": [
    "#replacing the column names contained 'm' to 'm.' and 'f' to 'f.' for easy cleaning. \n",
    "names(tb) <- str_replace(names(tb), \"m\", \"m.\")\n",
    "names(tb) <- str_replace(names(tb), 'f', 'f.')\n",
    "head(tb)"
   ]
  },
  {
   "cell_type": "code",
   "execution_count": 5,
   "metadata": {},
   "outputs": [
    {
     "data": {
      "text/html": [
       "<table>\n",
       "<thead><tr><th scope=col>country</th><th scope=col>year</th><th scope=col>column</th><th scope=col>value</th></tr></thead>\n",
       "<tbody>\n",
       "\t<tr><td>AD   </td><td>2000 </td><td>m.014</td><td> 0   </td></tr>\n",
       "\t<tr><td>AE   </td><td>2000 </td><td>m.014</td><td> 2   </td></tr>\n",
       "\t<tr><td>AF   </td><td>2000 </td><td>m.014</td><td>52   </td></tr>\n",
       "\t<tr><td>AG   </td><td>2000 </td><td>m.014</td><td> 0   </td></tr>\n",
       "\t<tr><td>AL   </td><td>2000 </td><td>m.014</td><td> 2   </td></tr>\n",
       "\t<tr><td>AM   </td><td>2000 </td><td>m.014</td><td> 2   </td></tr>\n",
       "</tbody>\n",
       "</table>\n"
      ],
      "text/latex": [
       "\\begin{tabular}{r|llll}\n",
       " country & year & column & value\\\\\n",
       "\\hline\n",
       "\t AD    & 2000  & m.014 &  0   \\\\\n",
       "\t AE    & 2000  & m.014 &  2   \\\\\n",
       "\t AF    & 2000  & m.014 & 52   \\\\\n",
       "\t AG    & 2000  & m.014 &  0   \\\\\n",
       "\t AL    & 2000  & m.014 &  2   \\\\\n",
       "\t AM    & 2000  & m.014 &  2   \\\\\n",
       "\\end{tabular}\n"
      ],
      "text/markdown": [
       "\n",
       "country | year | column | value | \n",
       "|---|---|---|---|---|---|\n",
       "| AD    | 2000  | m.014 |  0    | \n",
       "| AE    | 2000  | m.014 |  2    | \n",
       "| AF    | 2000  | m.014 | 52    | \n",
       "| AG    | 2000  | m.014 |  0    | \n",
       "| AL    | 2000  | m.014 |  2    | \n",
       "| AM    | 2000  | m.014 |  2    | \n",
       "\n",
       "\n"
      ],
      "text/plain": [
       "  country year column value\n",
       "1 AD      2000 m.014   0   \n",
       "2 AE      2000 m.014   2   \n",
       "3 AF      2000 m.014  52   \n",
       "4 AG      2000 m.014   0   \n",
       "5 AL      2000 m.014   2   \n",
       "6 AM      2000 m.014   2   "
      ]
     },
     "metadata": {},
     "output_type": "display_data"
    }
   ],
   "source": [
    "#gathering the columns that are not variables\n",
    "tb <- gather(tb, column, value, m.014:f.65, na.rm=TRUE)\n",
    "head(tb)"
   ]
  },
  {
   "cell_type": "code",
   "execution_count": 6,
   "metadata": {},
   "outputs": [
    {
     "data": {
      "text/html": [
       "<table>\n",
       "<thead><tr><th scope=col>country</th><th scope=col>year</th><th scope=col>sex</th><th scope=col>age_group</th><th scope=col>value</th></tr></thead>\n",
       "<tbody>\n",
       "\t<tr><td>AD  </td><td>2000</td><td>m   </td><td>014 </td><td> 0  </td></tr>\n",
       "\t<tr><td>AE  </td><td>2000</td><td>m   </td><td>014 </td><td> 2  </td></tr>\n",
       "\t<tr><td>AF  </td><td>2000</td><td>m   </td><td>014 </td><td>52  </td></tr>\n",
       "\t<tr><td>AG  </td><td>2000</td><td>m   </td><td>014 </td><td> 0  </td></tr>\n",
       "\t<tr><td>AL  </td><td>2000</td><td>m   </td><td>014 </td><td> 2  </td></tr>\n",
       "\t<tr><td>AM  </td><td>2000</td><td>m   </td><td>014 </td><td> 2  </td></tr>\n",
       "</tbody>\n",
       "</table>\n"
      ],
      "text/latex": [
       "\\begin{tabular}{r|lllll}\n",
       " country & year & sex & age\\_group & value\\\\\n",
       "\\hline\n",
       "\t AD   & 2000 & m    & 014  &  0  \\\\\n",
       "\t AE   & 2000 & m    & 014  &  2  \\\\\n",
       "\t AF   & 2000 & m    & 014  & 52  \\\\\n",
       "\t AG   & 2000 & m    & 014  &  0  \\\\\n",
       "\t AL   & 2000 & m    & 014  &  2  \\\\\n",
       "\t AM   & 2000 & m    & 014  &  2  \\\\\n",
       "\\end{tabular}\n"
      ],
      "text/markdown": [
       "\n",
       "country | year | sex | age_group | value | \n",
       "|---|---|---|---|---|---|\n",
       "| AD   | 2000 | m    | 014  |  0   | \n",
       "| AE   | 2000 | m    | 014  |  2   | \n",
       "| AF   | 2000 | m    | 014  | 52   | \n",
       "| AG   | 2000 | m    | 014  |  0   | \n",
       "| AL   | 2000 | m    | 014  |  2   | \n",
       "| AM   | 2000 | m    | 014  |  2   | \n",
       "\n",
       "\n"
      ],
      "text/plain": [
       "  country year sex age_group value\n",
       "1 AD      2000 m   014        0   \n",
       "2 AE      2000 m   014        2   \n",
       "3 AF      2000 m   014       52   \n",
       "4 AG      2000 m   014        0   \n",
       "5 AL      2000 m   014        2   \n",
       "6 AM      2000 m   014        2   "
      ]
     },
     "metadata": {},
     "output_type": "display_data"
    }
   ],
   "source": [
    "#seperating the column which has rows as variables in it to seperate variables\n",
    "tb <- separate(tb, column, into = c(\"sex\", \"age_group\"), na.rm=TRUE)\n",
    "head(tb)"
   ]
  },
  {
   "cell_type": "code",
   "execution_count": 8,
   "metadata": {},
   "outputs": [],
   "source": [
    "#processing the strings of age to look in a clean way. \n",
    "tb$age_group <- str_replace_all(tb$age_group, \"0\", \"0-\")\n",
    "tb$age_group <- str_replace_all(tb$age_group, \"15\", \"15-\")\n",
    "tb$age_group <- str_replace_all(tb$age_group, \"25\", \"25-\")\n",
    "tb$age_group <- str_replace_all(tb$age_group, \"35\", \"35-\")\n",
    "tb$age_group <- str_replace_all(tb$age_group, \"45\", \"45-\")\n",
    "tb$age_group <- str_replace_all(tb$age_group, \"55\", \"55-\")\n",
    "tb$age_group <- str_replace_all(tb$age_group, \"65\", \"65-100\")\n"
   ]
  },
  {
   "cell_type": "code",
   "execution_count": 9,
   "metadata": {},
   "outputs": [],
   "source": [
    "#writing the cleaned tb data to a csv file\n",
    "write_csv(tb, \"tb_cleaned.csv\")"
   ]
  },
  {
   "cell_type": "code",
   "execution_count": null,
   "metadata": {},
   "outputs": [],
   "source": []
  }
 ],
 "metadata": {
  "kernelspec": {
   "display_name": "R",
   "language": "R",
   "name": "ir"
  },
  "language_info": {
   "codemirror_mode": "r",
   "file_extension": ".r",
   "mimetype": "text/x-r-source",
   "name": "R",
   "pygments_lexer": "r",
   "version": "3.5.1"
  }
 },
 "nbformat": 4,
 "nbformat_minor": 2
}
