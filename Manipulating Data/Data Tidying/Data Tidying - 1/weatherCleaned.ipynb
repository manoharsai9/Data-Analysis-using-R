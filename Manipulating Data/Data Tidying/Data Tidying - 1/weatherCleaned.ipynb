{
 "cells": [
  {
   "cell_type": "code",
   "execution_count": 2,
   "metadata": {},
   "outputs": [
    {
     "name": "stderr",
     "output_type": "stream",
     "text": [
      "── Attaching packages ─────────────────────────────────────── tidyverse 1.2.1 ──\n",
      "✔ ggplot2 3.0.0     ✔ purrr   0.2.5\n",
      "✔ tibble  1.4.2     ✔ dplyr   0.7.6\n",
      "✔ readr   1.1.1     ✔ stringr 1.3.1\n",
      "✔ ggplot2 3.0.0     ✔ forcats 0.3.0\n",
      "── Conflicts ────────────────────────────────────────── tidyverse_conflicts() ──\n",
      "✖ dplyr::filter() masks stats::filter()\n",
      "✖ dplyr::lag()    masks stats::lag()\n"
     ]
    }
   ],
   "source": [
    "#importing the libraries\n",
    "library(tidyr)\n",
    "library(tidyverse)\n"
   ]
  },
  {
   "cell_type": "code",
   "execution_count": 3,
   "metadata": {},
   "outputs": [],
   "source": [
    "# Tidying the weather data\n",
    "\n",
    "#reading the csv file\n",
    "weather <- read.csv(\"/Users/manoharsaijasti/weather-untidy.csv\", stringsAsFactors = FALSE)\n",
    "weather <- as.tibble(weather)"
   ]
  },
  {
   "cell_type": "code",
   "execution_count": 5,
   "metadata": {},
   "outputs": [
    {
     "data": {
      "text/html": [
       "<table>\n",
       "<thead><tr><th scope=col>id</th><th scope=col>year</th><th scope=col>month</th><th scope=col>element</th><th scope=col>d1</th><th scope=col>d2</th><th scope=col>d3</th><th scope=col>d4</th><th scope=col>d5</th><th scope=col>d6</th><th scope=col>⋯</th><th scope=col>d22</th><th scope=col>d23</th><th scope=col>d24</th><th scope=col>d25</th><th scope=col>d26</th><th scope=col>d27</th><th scope=col>d28</th><th scope=col>d29</th><th scope=col>d30</th><th scope=col>d31</th></tr></thead>\n",
       "<tbody>\n",
       "\t<tr><td>MX17004</td><td>2010   </td><td>1      </td><td>TMAX   </td><td>NA     </td><td> NA    </td><td> NA    </td><td>NA     </td><td> NA    </td><td>NA     </td><td>⋯      </td><td>NA     </td><td> NA    </td><td>NA     </td><td>NA     </td><td>NA     </td><td>NA     </td><td>NA     </td><td>NA     </td><td>278    </td><td>NA     </td></tr>\n",
       "\t<tr><td>MX17004</td><td>2010   </td><td>1      </td><td>TMIN   </td><td>NA     </td><td> NA    </td><td> NA    </td><td>NA     </td><td> NA    </td><td>NA     </td><td>⋯      </td><td>NA     </td><td> NA    </td><td>NA     </td><td>NA     </td><td>NA     </td><td>NA     </td><td>NA     </td><td>NA     </td><td>145    </td><td>NA     </td></tr>\n",
       "\t<tr><td>MX17004</td><td>2010   </td><td>2      </td><td>TMAX   </td><td>NA     </td><td>273    </td><td>241    </td><td>NA     </td><td> NA    </td><td>NA     </td><td>⋯      </td><td>NA     </td><td>299    </td><td>NA     </td><td>NA     </td><td>NA     </td><td>NA     </td><td>NA     </td><td>NA     </td><td> NA    </td><td>NA     </td></tr>\n",
       "\t<tr><td>MX17004</td><td>2010   </td><td>2      </td><td>TMIN   </td><td>NA     </td><td>144    </td><td>144    </td><td>NA     </td><td> NA    </td><td>NA     </td><td>⋯      </td><td>NA     </td><td>107    </td><td>NA     </td><td>NA     </td><td>NA     </td><td>NA     </td><td>NA     </td><td>NA     </td><td> NA    </td><td>NA     </td></tr>\n",
       "\t<tr><td>MX17004</td><td>2010   </td><td>3      </td><td>TMAX   </td><td>NA     </td><td> NA    </td><td> NA    </td><td>NA     </td><td>321    </td><td>NA     </td><td>⋯      </td><td>NA     </td><td> NA    </td><td>NA     </td><td>NA     </td><td>NA     </td><td>NA     </td><td>NA     </td><td>NA     </td><td> NA    </td><td>NA     </td></tr>\n",
       "\t<tr><td>MX17004</td><td>2010   </td><td>3      </td><td>TMIN   </td><td>NA     </td><td> NA    </td><td> NA    </td><td>NA     </td><td>142    </td><td>NA     </td><td>⋯      </td><td>NA     </td><td> NA    </td><td>NA     </td><td>NA     </td><td>NA     </td><td>NA     </td><td>NA     </td><td>NA     </td><td> NA    </td><td>NA     </td></tr>\n",
       "</tbody>\n",
       "</table>\n"
      ],
      "text/latex": [
       "\\begin{tabular}{r|lllllllllllllllllllllllllllllllllll}\n",
       " id & year & month & element & d1 & d2 & d3 & d4 & d5 & d6 & ⋯ & d22 & d23 & d24 & d25 & d26 & d27 & d28 & d29 & d30 & d31\\\\\n",
       "\\hline\n",
       "\t MX17004 & 2010    & 1       & TMAX    & NA      &  NA     &  NA     & NA      &  NA     & NA      & ⋯       & NA      &  NA     & NA      & NA      & NA      & NA      & NA      & NA      & 278     & NA     \\\\\n",
       "\t MX17004 & 2010    & 1       & TMIN    & NA      &  NA     &  NA     & NA      &  NA     & NA      & ⋯       & NA      &  NA     & NA      & NA      & NA      & NA      & NA      & NA      & 145     & NA     \\\\\n",
       "\t MX17004 & 2010    & 2       & TMAX    & NA      & 273     & 241     & NA      &  NA     & NA      & ⋯       & NA      & 299     & NA      & NA      & NA      & NA      & NA      & NA      &  NA     & NA     \\\\\n",
       "\t MX17004 & 2010    & 2       & TMIN    & NA      & 144     & 144     & NA      &  NA     & NA      & ⋯       & NA      & 107     & NA      & NA      & NA      & NA      & NA      & NA      &  NA     & NA     \\\\\n",
       "\t MX17004 & 2010    & 3       & TMAX    & NA      &  NA     &  NA     & NA      & 321     & NA      & ⋯       & NA      &  NA     & NA      & NA      & NA      & NA      & NA      & NA      &  NA     & NA     \\\\\n",
       "\t MX17004 & 2010    & 3       & TMIN    & NA      &  NA     &  NA     & NA      & 142     & NA      & ⋯       & NA      &  NA     & NA      & NA      & NA      & NA      & NA      & NA      &  NA     & NA     \\\\\n",
       "\\end{tabular}\n"
      ],
      "text/markdown": [
       "\n",
       "id | year | month | element | d1 | d2 | d3 | d4 | d5 | d6 | ⋯ | d22 | d23 | d24 | d25 | d26 | d27 | d28 | d29 | d30 | d31 | \n",
       "|---|---|---|---|---|---|\n",
       "| MX17004 | 2010    | 1       | TMAX    | NA      |  NA     |  NA     | NA      |  NA     | NA      | ⋯       | NA      |  NA     | NA      | NA      | NA      | NA      | NA      | NA      | 278     | NA      | \n",
       "| MX17004 | 2010    | 1       | TMIN    | NA      |  NA     |  NA     | NA      |  NA     | NA      | ⋯       | NA      |  NA     | NA      | NA      | NA      | NA      | NA      | NA      | 145     | NA      | \n",
       "| MX17004 | 2010    | 2       | TMAX    | NA      | 273     | 241     | NA      |  NA     | NA      | ⋯       | NA      | 299     | NA      | NA      | NA      | NA      | NA      | NA      |  NA     | NA      | \n",
       "| MX17004 | 2010    | 2       | TMIN    | NA      | 144     | 144     | NA      |  NA     | NA      | ⋯       | NA      | 107     | NA      | NA      | NA      | NA      | NA      | NA      |  NA     | NA      | \n",
       "| MX17004 | 2010    | 3       | TMAX    | NA      |  NA     |  NA     | NA      | 321     | NA      | ⋯       | NA      |  NA     | NA      | NA      | NA      | NA      | NA      | NA      |  NA     | NA      | \n",
       "| MX17004 | 2010    | 3       | TMIN    | NA      |  NA     |  NA     | NA      | 142     | NA      | ⋯       | NA      |  NA     | NA      | NA      | NA      | NA      | NA      | NA      |  NA     | NA      | \n",
       "\n",
       "\n"
      ],
      "text/plain": [
       "  id      year month element d1 d2  d3  d4 d5  d6 ⋯ d22 d23 d24 d25 d26 d27 d28\n",
       "1 MX17004 2010 1     TMAX    NA  NA  NA NA  NA NA ⋯ NA   NA NA  NA  NA  NA  NA \n",
       "2 MX17004 2010 1     TMIN    NA  NA  NA NA  NA NA ⋯ NA   NA NA  NA  NA  NA  NA \n",
       "3 MX17004 2010 2     TMAX    NA 273 241 NA  NA NA ⋯ NA  299 NA  NA  NA  NA  NA \n",
       "4 MX17004 2010 2     TMIN    NA 144 144 NA  NA NA ⋯ NA  107 NA  NA  NA  NA  NA \n",
       "5 MX17004 2010 3     TMAX    NA  NA  NA NA 321 NA ⋯ NA   NA NA  NA  NA  NA  NA \n",
       "6 MX17004 2010 3     TMIN    NA  NA  NA NA 142 NA ⋯ NA   NA NA  NA  NA  NA  NA \n",
       "  d29 d30 d31\n",
       "1 NA  278 NA \n",
       "2 NA  145 NA \n",
       "3 NA   NA NA \n",
       "4 NA   NA NA \n",
       "5 NA   NA NA \n",
       "6 NA   NA NA "
      ]
     },
     "metadata": {},
     "output_type": "display_data"
    }
   ],
   "source": [
    "head(weather)"
   ]
  },
  {
   "cell_type": "code",
   "execution_count": 6,
   "metadata": {},
   "outputs": [
    {
     "data": {
      "text/html": [
       "<table>\n",
       "<thead><tr><th scope=col>id</th><th scope=col>year</th><th scope=col>month</th><th scope=col>element</th><th scope=col>day</th><th scope=col>value</th></tr></thead>\n",
       "<tbody>\n",
       "\t<tr><td>MX17004</td><td>2010   </td><td>12     </td><td>TMAX   </td><td>d1     </td><td>299    </td></tr>\n",
       "\t<tr><td>MX17004</td><td>2010   </td><td>12     </td><td>TMIN   </td><td>d1     </td><td>138    </td></tr>\n",
       "\t<tr><td>MX17004</td><td>2010   </td><td> 2     </td><td>TMAX   </td><td>d2     </td><td>273    </td></tr>\n",
       "\t<tr><td>MX17004</td><td>2010   </td><td> 2     </td><td>TMIN   </td><td>d2     </td><td>144    </td></tr>\n",
       "\t<tr><td>MX17004</td><td>2010   </td><td>11     </td><td>TMAX   </td><td>d2     </td><td>313    </td></tr>\n",
       "\t<tr><td>MX17004</td><td>2010   </td><td>11     </td><td>TMIN   </td><td>d2     </td><td>163    </td></tr>\n",
       "</tbody>\n",
       "</table>\n"
      ],
      "text/latex": [
       "\\begin{tabular}{r|llllll}\n",
       " id & year & month & element & day & value\\\\\n",
       "\\hline\n",
       "\t MX17004 & 2010    & 12      & TMAX    & d1      & 299    \\\\\n",
       "\t MX17004 & 2010    & 12      & TMIN    & d1      & 138    \\\\\n",
       "\t MX17004 & 2010    &  2      & TMAX    & d2      & 273    \\\\\n",
       "\t MX17004 & 2010    &  2      & TMIN    & d2      & 144    \\\\\n",
       "\t MX17004 & 2010    & 11      & TMAX    & d2      & 313    \\\\\n",
       "\t MX17004 & 2010    & 11      & TMIN    & d2      & 163    \\\\\n",
       "\\end{tabular}\n"
      ],
      "text/markdown": [
       "\n",
       "id | year | month | element | day | value | \n",
       "|---|---|---|---|---|---|\n",
       "| MX17004 | 2010    | 12      | TMAX    | d1      | 299     | \n",
       "| MX17004 | 2010    | 12      | TMIN    | d1      | 138     | \n",
       "| MX17004 | 2010    |  2      | TMAX    | d2      | 273     | \n",
       "| MX17004 | 2010    |  2      | TMIN    | d2      | 144     | \n",
       "| MX17004 | 2010    | 11      | TMAX    | d2      | 313     | \n",
       "| MX17004 | 2010    | 11      | TMIN    | d2      | 163     | \n",
       "\n",
       "\n"
      ],
      "text/plain": [
       "  id      year month element day value\n",
       "1 MX17004 2010 12    TMAX    d1  299  \n",
       "2 MX17004 2010 12    TMIN    d1  138  \n",
       "3 MX17004 2010  2    TMAX    d2  273  \n",
       "4 MX17004 2010  2    TMIN    d2  144  \n",
       "5 MX17004 2010 11    TMAX    d2  313  \n",
       "6 MX17004 2010 11    TMIN    d2  163  "
      ]
     },
     "metadata": {},
     "output_type": "display_data"
    }
   ],
   "source": [
    "#gathering the columns that are not variables i.e d1,d2,d3,......d31 into the keys and values as values of those columns\n",
    "weather.a <- weather %>% gather(day, value, d1:d31, na.rm = TRUE)\n",
    "head(weather.a)"
   ]
  },
  {
   "cell_type": "code",
   "execution_count": 7,
   "metadata": {},
   "outputs": [
    {
     "data": {
      "text/html": [
       "<table>\n",
       "<thead><tr><th scope=col>id</th><th scope=col>year</th><th scope=col>month</th><th scope=col>day</th><th scope=col>TMAX</th><th scope=col>TMIN</th></tr></thead>\n",
       "<tbody>\n",
       "\t<tr><td>MX17004</td><td>2010   </td><td>1      </td><td>d30    </td><td>278    </td><td>145    </td></tr>\n",
       "\t<tr><td>MX17004</td><td>2010   </td><td>2      </td><td>d11    </td><td>297    </td><td>134    </td></tr>\n",
       "\t<tr><td>MX17004</td><td>2010   </td><td>2      </td><td>d2     </td><td>273    </td><td>144    </td></tr>\n",
       "\t<tr><td>MX17004</td><td>2010   </td><td>2      </td><td>d23    </td><td>299    </td><td>107    </td></tr>\n",
       "\t<tr><td>MX17004</td><td>2010   </td><td>2      </td><td>d3     </td><td>241    </td><td>144    </td></tr>\n",
       "\t<tr><td>MX17004</td><td>2010   </td><td>3      </td><td>d10    </td><td>345    </td><td>168    </td></tr>\n",
       "</tbody>\n",
       "</table>\n"
      ],
      "text/latex": [
       "\\begin{tabular}{r|llllll}\n",
       " id & year & month & day & TMAX & TMIN\\\\\n",
       "\\hline\n",
       "\t MX17004 & 2010    & 1       & d30     & 278     & 145    \\\\\n",
       "\t MX17004 & 2010    & 2       & d11     & 297     & 134    \\\\\n",
       "\t MX17004 & 2010    & 2       & d2      & 273     & 144    \\\\\n",
       "\t MX17004 & 2010    & 2       & d23     & 299     & 107    \\\\\n",
       "\t MX17004 & 2010    & 2       & d3      & 241     & 144    \\\\\n",
       "\t MX17004 & 2010    & 3       & d10     & 345     & 168    \\\\\n",
       "\\end{tabular}\n"
      ],
      "text/markdown": [
       "\n",
       "id | year | month | day | TMAX | TMIN | \n",
       "|---|---|---|---|---|---|\n",
       "| MX17004 | 2010    | 1       | d30     | 278     | 145     | \n",
       "| MX17004 | 2010    | 2       | d11     | 297     | 134     | \n",
       "| MX17004 | 2010    | 2       | d2      | 273     | 144     | \n",
       "| MX17004 | 2010    | 2       | d23     | 299     | 107     | \n",
       "| MX17004 | 2010    | 2       | d3      | 241     | 144     | \n",
       "| MX17004 | 2010    | 3       | d10     | 345     | 168     | \n",
       "\n",
       "\n"
      ],
      "text/plain": [
       "  id      year month day TMAX TMIN\n",
       "1 MX17004 2010 1     d30 278  145 \n",
       "2 MX17004 2010 2     d11 297  134 \n",
       "3 MX17004 2010 2     d2  273  144 \n",
       "4 MX17004 2010 2     d23 299  107 \n",
       "5 MX17004 2010 2     d3  241  144 \n",
       "6 MX17004 2010 3     d10 345  168 "
      ]
     },
     "metadata": {},
     "output_type": "display_data"
    }
   ],
   "source": [
    "#spreading the key-value pair (TMAX, TMIN) across multiple columns \n",
    "weather.b <- weather.a %>% spread(element , value)\n",
    "head(weather.b)"
   ]
  },
  {
   "cell_type": "code",
   "execution_count": 8,
   "metadata": {},
   "outputs": [
    {
     "data": {
      "text/html": [
       "'character'"
      ],
      "text/latex": [
       "'character'"
      ],
      "text/markdown": [
       "'character'"
      ],
      "text/plain": [
       "[1] \"character\""
      ]
     },
     "metadata": {},
     "output_type": "display_data"
    }
   ],
   "source": [
    "#checking the class of the day variable\n",
    "class(weather.b$day)"
   ]
  },
  {
   "cell_type": "code",
   "execution_count": 9,
   "metadata": {},
   "outputs": [],
   "source": [
    "#parsing the day variable to the numeric type \n",
    "weather.b$day <- parse_number(weather.b$day)"
   ]
  },
  {
   "cell_type": "code",
   "execution_count": 10,
   "metadata": {},
   "outputs": [
    {
     "data": {
      "text/html": [
       "<table>\n",
       "<thead><tr><th scope=col>id</th><th scope=col>day</th><th scope=col>month</th><th scope=col>year</th><th scope=col>TMAX</th><th scope=col>TMIN</th></tr></thead>\n",
       "<tbody>\n",
       "\t<tr><td>MX17004</td><td>30     </td><td>1      </td><td>2010   </td><td>278    </td><td>145    </td></tr>\n",
       "\t<tr><td>MX17004</td><td> 2     </td><td>2      </td><td>2010   </td><td>273    </td><td>144    </td></tr>\n",
       "\t<tr><td>MX17004</td><td> 3     </td><td>2      </td><td>2010   </td><td>241    </td><td>144    </td></tr>\n",
       "\t<tr><td>MX17004</td><td>11     </td><td>2      </td><td>2010   </td><td>297    </td><td>134    </td></tr>\n",
       "\t<tr><td>MX17004</td><td>23     </td><td>2      </td><td>2010   </td><td>299    </td><td>107    </td></tr>\n",
       "\t<tr><td>MX17004</td><td> 5     </td><td>3      </td><td>2010   </td><td>321    </td><td>142    </td></tr>\n",
       "</tbody>\n",
       "</table>\n"
      ],
      "text/latex": [
       "\\begin{tabular}{r|llllll}\n",
       " id & day & month & year & TMAX & TMIN\\\\\n",
       "\\hline\n",
       "\t MX17004 & 30      & 1       & 2010    & 278     & 145    \\\\\n",
       "\t MX17004 &  2      & 2       & 2010    & 273     & 144    \\\\\n",
       "\t MX17004 &  3      & 2       & 2010    & 241     & 144    \\\\\n",
       "\t MX17004 & 11      & 2       & 2010    & 297     & 134    \\\\\n",
       "\t MX17004 & 23      & 2       & 2010    & 299     & 107    \\\\\n",
       "\t MX17004 &  5      & 3       & 2010    & 321     & 142    \\\\\n",
       "\\end{tabular}\n"
      ],
      "text/markdown": [
       "\n",
       "id | day | month | year | TMAX | TMIN | \n",
       "|---|---|---|---|---|---|\n",
       "| MX17004 | 30      | 1       | 2010    | 278     | 145     | \n",
       "| MX17004 |  2      | 2       | 2010    | 273     | 144     | \n",
       "| MX17004 |  3      | 2       | 2010    | 241     | 144     | \n",
       "| MX17004 | 11      | 2       | 2010    | 297     | 134     | \n",
       "| MX17004 | 23      | 2       | 2010    | 299     | 107     | \n",
       "| MX17004 |  5      | 3       | 2010    | 321     | 142     | \n",
       "\n",
       "\n"
      ],
      "text/plain": [
       "  id      day month year TMAX TMIN\n",
       "1 MX17004 30  1     2010 278  145 \n",
       "2 MX17004  2  2     2010 273  144 \n",
       "3 MX17004  3  2     2010 241  144 \n",
       "4 MX17004 11  2     2010 297  134 \n",
       "5 MX17004 23  2     2010 299  107 \n",
       "6 MX17004  5  3     2010 321  142 "
      ]
     },
     "metadata": {},
     "output_type": "display_data"
    }
   ],
   "source": [
    "#created a pipe to organize the data neatly i.e selected and arranged the data by id,year and day columns.\n",
    "weather <- weather.b %>% \n",
    "  select(id,day,month,year,TMAX, TMIN) %>%\n",
    "  arrange(id,year,month,day)\n",
    "\n",
    "head(weather)"
   ]
  },
  {
   "cell_type": "code",
   "execution_count": 11,
   "metadata": {},
   "outputs": [],
   "source": [
    "#writing the cleaned data into a csv file\n",
    "write_csv(weather, \"weather_cleaned.csv\")"
   ]
  },
  {
   "cell_type": "code",
   "execution_count": null,
   "metadata": {},
   "outputs": [],
   "source": []
  }
 ],
 "metadata": {
  "kernelspec": {
   "display_name": "R",
   "language": "R",
   "name": "ir"
  },
  "language_info": {
   "codemirror_mode": "r",
   "file_extension": ".r",
   "mimetype": "text/x-r-source",
   "name": "R",
   "pygments_lexer": "r",
   "version": "3.5.1"
  }
 },
 "nbformat": 4,
 "nbformat_minor": 2
}
