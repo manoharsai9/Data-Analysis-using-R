{
 "cells": [
  {
   "cell_type": "code",
   "execution_count": 1,
   "metadata": {},
   "outputs": [
    {
     "name": "stderr",
     "output_type": "stream",
     "text": [
      "── Attaching packages ─────────────────────────────────────── tidyverse 1.2.1 ──\n",
      "✔ ggplot2 3.0.0     ✔ purrr   0.2.5\n",
      "✔ tibble  1.4.2     ✔ dplyr   0.7.6\n",
      "✔ readr   1.1.1     ✔ stringr 1.3.1\n",
      "✔ ggplot2 3.0.0     ✔ forcats 0.3.0\n",
      "── Conflicts ────────────────────────────────────────── tidyverse_conflicts() ──\n",
      "✖ dplyr::filter() masks stats::filter()\n",
      "✖ dplyr::lag()    masks stats::lag()\n"
     ]
    }
   ],
   "source": [
    "#importing the libraries\n",
    "library(tidyr)\n",
    "library(tidyverse)"
   ]
  },
  {
   "cell_type": "code",
   "execution_count": 2,
   "metadata": {},
   "outputs": [],
   "source": [
    "#reading the file into a csv\n",
    "employee.data <- read.csv(\"/Users/manoharsaijasti/employee-data.csv\", skip = 23, stringsAsFactors = FALSE)\n",
    "employee.data <- as.tibble(employee.data)"
   ]
  },
  {
   "cell_type": "code",
   "execution_count": 3,
   "metadata": {},
   "outputs": [
    {
     "data": {
      "text/html": [
       "<table>\n",
       "<thead><tr><th scope=col>emp_no</th><th scope=col>first_name</th><th scope=col>last_name</th><th scope=col>birth_date</th><th scope=col>gender</th><th scope=col>title</th><th scope=col>salary</th><th scope=col>latest_start_date</th><th scope=col>end_of_contract_date</th></tr></thead>\n",
       "<tbody>\n",
       "\t<tr><td>10001          </td><td>Georgi         </td><td>Facello        </td><td>02/09/1953     </td><td>M              </td><td>Senior Engineer</td><td>60117          </td><td>22/06/2010     </td><td>01/01/9999     </td></tr>\n",
       "\t<tr><td>10002          </td><td>Bezalel        </td><td>Simmel         </td><td>02/06/1964     </td><td>F              </td><td>Staff          </td><td>65828          </td><td>02/08/2001     </td><td>01/01/9999     </td></tr>\n",
       "\t<tr><td>10003          </td><td>Parto          </td><td>Bamford        </td><td>03/12/1959     </td><td>M              </td><td>Senior Engineer</td><td>40006          </td><td>01/12/2001     </td><td>01/01/9999     </td></tr>\n",
       "\t<tr><td>10004          </td><td>Chirstian      </td><td>Koblick        </td><td>01/05/1954     </td><td>M              </td><td>Engineer       </td><td>40054          </td><td>27/11/2001     </td><td>01/01/9999     </td></tr>\n",
       "\t<tr><td>10005          </td><td>Kyoichi        </td><td>Maliniak       </td><td>21/01/1955     </td><td>M              </td><td>Senior Staff   </td><td>78228          </td><td>09/09/2001     </td><td>01/01/9999     </td></tr>\n",
       "\t<tr><td>10006          </td><td>Anneke         </td><td>Preusig        </td><td>20/04/1953     </td><td>F              </td><td>Senior Engineer</td><td>40000          </td><td>02/08/2001     </td><td>01/01/9999     </td></tr>\n",
       "</tbody>\n",
       "</table>\n"
      ],
      "text/latex": [
       "\\begin{tabular}{r|lllllllll}\n",
       " emp\\_no & first\\_name & last\\_name & birth\\_date & gender & title & salary & latest\\_start\\_date & end\\_of\\_contract\\_date\\\\\n",
       "\\hline\n",
       "\t 10001           & Georgi          & Facello         & 02/09/1953      & M               & Senior Engineer & 60117           & 22/06/2010      & 01/01/9999     \\\\\n",
       "\t 10002           & Bezalel         & Simmel          & 02/06/1964      & F               & Staff           & 65828           & 02/08/2001      & 01/01/9999     \\\\\n",
       "\t 10003           & Parto           & Bamford         & 03/12/1959      & M               & Senior Engineer & 40006           & 01/12/2001      & 01/01/9999     \\\\\n",
       "\t 10004           & Chirstian       & Koblick         & 01/05/1954      & M               & Engineer        & 40054           & 27/11/2001      & 01/01/9999     \\\\\n",
       "\t 10005           & Kyoichi         & Maliniak        & 21/01/1955      & M               & Senior Staff    & 78228           & 09/09/2001      & 01/01/9999     \\\\\n",
       "\t 10006           & Anneke          & Preusig         & 20/04/1953      & F               & Senior Engineer & 40000           & 02/08/2001      & 01/01/9999     \\\\\n",
       "\\end{tabular}\n"
      ],
      "text/markdown": [
       "\n",
       "emp_no | first_name | last_name | birth_date | gender | title | salary | latest_start_date | end_of_contract_date | \n",
       "|---|---|---|---|---|---|\n",
       "| 10001           | Georgi          | Facello         | 02/09/1953      | M               | Senior Engineer | 60117           | 22/06/2010      | 01/01/9999      | \n",
       "| 10002           | Bezalel         | Simmel          | 02/06/1964      | F               | Staff           | 65828           | 02/08/2001      | 01/01/9999      | \n",
       "| 10003           | Parto           | Bamford         | 03/12/1959      | M               | Senior Engineer | 40006           | 01/12/2001      | 01/01/9999      | \n",
       "| 10004           | Chirstian       | Koblick         | 01/05/1954      | M               | Engineer        | 40054           | 27/11/2001      | 01/01/9999      | \n",
       "| 10005           | Kyoichi         | Maliniak        | 21/01/1955      | M               | Senior Staff    | 78228           | 09/09/2001      | 01/01/9999      | \n",
       "| 10006           | Anneke          | Preusig         | 20/04/1953      | F               | Senior Engineer | 40000           | 02/08/2001      | 01/01/9999      | \n",
       "\n",
       "\n"
      ],
      "text/plain": [
       "  emp_no first_name last_name birth_date gender title           salary\n",
       "1 10001  Georgi     Facello   02/09/1953 M      Senior Engineer 60117 \n",
       "2 10002  Bezalel    Simmel    02/06/1964 F      Staff           65828 \n",
       "3 10003  Parto      Bamford   03/12/1959 M      Senior Engineer 40006 \n",
       "4 10004  Chirstian  Koblick   01/05/1954 M      Engineer        40054 \n",
       "5 10005  Kyoichi    Maliniak  21/01/1955 M      Senior Staff    78228 \n",
       "6 10006  Anneke     Preusig   20/04/1953 F      Senior Engineer 40000 \n",
       "  latest_start_date end_of_contract_date\n",
       "1 22/06/2010        01/01/9999          \n",
       "2 02/08/2001        01/01/9999          \n",
       "3 01/12/2001        01/01/9999          \n",
       "4 27/11/2001        01/01/9999          \n",
       "5 09/09/2001        01/01/9999          \n",
       "6 02/08/2001        01/01/9999          "
      ]
     },
     "metadata": {},
     "output_type": "display_data"
    }
   ],
   "source": [
    "head(employee.data)"
   ]
  },
  {
   "cell_type": "code",
   "execution_count": 4,
   "metadata": {},
   "outputs": [
    {
     "data": {
      "text/html": [
       "FALSE"
      ],
      "text/latex": [
       "FALSE"
      ],
      "text/markdown": [
       "FALSE"
      ],
      "text/plain": [
       "[1] FALSE"
      ]
     },
     "metadata": {},
     "output_type": "display_data"
    }
   ],
   "source": [
    "#Checking if the data has any missing values.\n",
    "any(is.na(employee.data))"
   ]
  },
  {
   "cell_type": "code",
   "execution_count": 5,
   "metadata": {},
   "outputs": [],
   "source": [
    "#Arranging the dataset by gender, then last name, and made first_name, last_name, and gender the first three variables in the data frame\n",
    "employee.a <- employee.data %>% \n",
    "  select(ends_with(\"name\"), gender, everything()) %>%\n",
    "  #Filtering only the employees whose salary is higher than 70,000.\n",
    "  filter(salary >= 70000) %>% \n",
    "  arrange(gender, last_name)"
   ]
  },
  {
   "cell_type": "code",
   "execution_count": 6,
   "metadata": {},
   "outputs": [
    {
     "data": {
      "text/html": [
       "<table>\n",
       "<thead><tr><th scope=col>first_name</th><th scope=col>last_name</th><th scope=col>gender</th><th scope=col>emp_no</th><th scope=col>birth_date</th><th scope=col>title</th><th scope=col>salary</th><th scope=col>latest_start_date</th><th scope=col>end_of_contract_date</th></tr></thead>\n",
       "<tbody>\n",
       "\t<tr><td>Aleksandar  </td><td>Ananiadou   </td><td>F           </td><td>10175       </td><td>11/01/1960  </td><td>Staff       </td><td>72285       </td><td>23/09/1994  </td><td>24/05/1995  </td></tr>\n",
       "\t<tr><td>Hironoby    </td><td>Atchley     </td><td>F           </td><td>10924       </td><td>27/04/1954  </td><td>Senior Staff</td><td>84783       </td><td>11/08/2001  </td><td>01/01/9999  </td></tr>\n",
       "\t<tr><td>Marko       </td><td>Auria       </td><td>F           </td><td>10232       </td><td>11/03/1956  </td><td>Senior Staff</td><td>89606       </td><td>02/06/2002  </td><td>01/01/9999  </td></tr>\n",
       "\t<tr><td>Dung        </td><td>Baca        </td><td>F           </td><td>10107       </td><td>13/06/1956  </td><td>Senior Staff</td><td>93159       </td><td>29/03/2002  </td><td>01/01/9999  </td></tr>\n",
       "\t<tr><td>Susumu      </td><td>Bade        </td><td>F           </td><td>10236       </td><td>26/03/1960  </td><td>Staff       </td><td>80469       </td><td>29/08/2001  </td><td>01/01/9999  </td></tr>\n",
       "\t<tr><td>Mara        </td><td>Bahi        </td><td>F           </td><td>10921       </td><td>20/07/1955  </td><td>Engineer    </td><td>72601       </td><td>23/07/2002  </td><td>01/01/9999  </td></tr>\n",
       "</tbody>\n",
       "</table>\n"
      ],
      "text/latex": [
       "\\begin{tabular}{r|lllllllll}\n",
       " first\\_name & last\\_name & gender & emp\\_no & birth\\_date & title & salary & latest\\_start\\_date & end\\_of\\_contract\\_date\\\\\n",
       "\\hline\n",
       "\t Aleksandar   & Ananiadou    & F            & 10175        & 11/01/1960   & Staff        & 72285        & 23/09/1994   & 24/05/1995  \\\\\n",
       "\t Hironoby     & Atchley      & F            & 10924        & 27/04/1954   & Senior Staff & 84783        & 11/08/2001   & 01/01/9999  \\\\\n",
       "\t Marko        & Auria        & F            & 10232        & 11/03/1956   & Senior Staff & 89606        & 02/06/2002   & 01/01/9999  \\\\\n",
       "\t Dung         & Baca         & F            & 10107        & 13/06/1956   & Senior Staff & 93159        & 29/03/2002   & 01/01/9999  \\\\\n",
       "\t Susumu       & Bade         & F            & 10236        & 26/03/1960   & Staff        & 80469        & 29/08/2001   & 01/01/9999  \\\\\n",
       "\t Mara         & Bahi         & F            & 10921        & 20/07/1955   & Engineer     & 72601        & 23/07/2002   & 01/01/9999  \\\\\n",
       "\\end{tabular}\n"
      ],
      "text/markdown": [
       "\n",
       "first_name | last_name | gender | emp_no | birth_date | title | salary | latest_start_date | end_of_contract_date | \n",
       "|---|---|---|---|---|---|\n",
       "| Aleksandar   | Ananiadou    | F            | 10175        | 11/01/1960   | Staff        | 72285        | 23/09/1994   | 24/05/1995   | \n",
       "| Hironoby     | Atchley      | F            | 10924        | 27/04/1954   | Senior Staff | 84783        | 11/08/2001   | 01/01/9999   | \n",
       "| Marko        | Auria        | F            | 10232        | 11/03/1956   | Senior Staff | 89606        | 02/06/2002   | 01/01/9999   | \n",
       "| Dung         | Baca         | F            | 10107        | 13/06/1956   | Senior Staff | 93159        | 29/03/2002   | 01/01/9999   | \n",
       "| Susumu       | Bade         | F            | 10236        | 26/03/1960   | Staff        | 80469        | 29/08/2001   | 01/01/9999   | \n",
       "| Mara         | Bahi         | F            | 10921        | 20/07/1955   | Engineer     | 72601        | 23/07/2002   | 01/01/9999   | \n",
       "\n",
       "\n"
      ],
      "text/plain": [
       "  first_name last_name gender emp_no birth_date title        salary\n",
       "1 Aleksandar Ananiadou F      10175  11/01/1960 Staff        72285 \n",
       "2 Hironoby   Atchley   F      10924  27/04/1954 Senior Staff 84783 \n",
       "3 Marko      Auria     F      10232  11/03/1956 Senior Staff 89606 \n",
       "4 Dung       Baca      F      10107  13/06/1956 Senior Staff 93159 \n",
       "5 Susumu     Bade      F      10236  26/03/1960 Staff        80469 \n",
       "6 Mara       Bahi      F      10921  20/07/1955 Engineer     72601 \n",
       "  latest_start_date end_of_contract_date\n",
       "1 23/09/1994        24/05/1995          \n",
       "2 11/08/2001        01/01/9999          \n",
       "3 02/06/2002        01/01/9999          \n",
       "4 29/03/2002        01/01/9999          \n",
       "5 29/08/2001        01/01/9999          \n",
       "6 23/07/2002        01/01/9999          "
      ]
     },
     "metadata": {},
     "output_type": "display_data"
    }
   ],
   "source": [
    "head(employee.a)"
   ]
  },
  {
   "cell_type": "code",
   "execution_count": 7,
   "metadata": {},
   "outputs": [],
   "source": [
    "#Creating a data frame containing only the employee numbers of those earning more than 70,000.\n",
    "good.earners <- employee.a[\"emp_no\"]"
   ]
  },
  {
   "cell_type": "code",
   "execution_count": 8,
   "metadata": {},
   "outputs": [],
   "source": [
    "#Finding out how much each position (title) earns on average by gender\n",
    "employee.b <- employee.data %>% \n",
    "  group_by(title, gender) %>% \n",
    "  summarise(avg.salary = mean(salary)) %>% \n",
    "  mutate(monthly = avg.salary/12) %>% \n",
    "  arrange(gender, desc(monthly))"
   ]
  },
  {
   "cell_type": "code",
   "execution_count": null,
   "metadata": {},
   "outputs": [],
   "source": [
    "employee."
   ]
  }
 ],
 "metadata": {
  "kernelspec": {
   "display_name": "R",
   "language": "R",
   "name": "ir"
  },
  "language_info": {
   "codemirror_mode": "r",
   "file_extension": ".r",
   "mimetype": "text/x-r-source",
   "name": "R",
   "pygments_lexer": "r",
   "version": "3.5.1"
  }
 },
 "nbformat": 4,
 "nbformat_minor": 2
}
